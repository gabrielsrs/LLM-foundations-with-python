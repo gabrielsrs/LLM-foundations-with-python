{
  "nbformat": 4,
  "nbformat_minor": 0,
  "metadata": {
    "colab": {
      "provenance": [],
      "gpuType": "T4",
      "authorship_tag": "ABX9TyPI8EmtRbFdsVZIveoVJmWC",
      "include_colab_link": true
    },
    "kernelspec": {
      "name": "python3",
      "display_name": "Python 3"
    },
    "language_info": {
      "name": "python"
    },
    "accelerator": "GPU"
  },
  "cells": [
    {
      "cell_type": "markdown",
      "metadata": {
        "id": "view-in-github",
        "colab_type": "text"
      },
      "source": [
        "<a href=\"https://colab.research.google.com/github/gabrielsrs/LLM-foundations-with-python/blob/master/LLM_foundations_with_python.ipynb\" target=\"_parent\"><img src=\"https://colab.research.google.com/assets/colab-badge.svg\" alt=\"Open In Colab\"/></a>"
      ]
    },
    {
      "cell_type": "markdown",
      "source": [
        "# Activity Suggestion Chatbot\n",
        "\n",
        "## Overview\n",
        "\n",
        "This project is a chatbot-based application that suggests personalized activities based on the sentiment and emotion detected in user inputs. By analyzing a user's mood and preferences, the chatbot recommends activities to enhance productivity, relaxation, or mental well-being. If the user is unsatisfied with the suggested activity, the chatbot can generate a new one based on recent user inputs.\n",
        "\n",
        "## Features\n",
        "1. **Sentiment Analysis**:\n",
        "    - Uses the **'distilbert-base-uncased-finetuned-sst-2-english'** model to detect the sentiment of the user input (positive or negative).\n",
        "2. **Emotion Detection**:\n",
        "    - Leverages the **'bhadresh-savani/distilbert-base-uncased-emotion'** model to identify the user's emotion (e.g., sadness, joy, anger) from the input.\n",
        "3. **Activity Suggestion**:\n",
        "    - Based on the detected sentiment and emotion, the app looks up an appropriate activity from a predefined dataset. The dataset maps different emotions and sentiments to various activities.\n",
        "4. **Regenerate New Activity**:\n",
        "    - If the user wants a different activity, the **'NousResearch/Llama-2-7b-chat-hf'** model generates a new activity based on recent inputs, including user feedback and the previously suggested activity.\n",
        "\n",
        "## Models Used\n",
        "- **Sentiment Model**:\n",
        "    - **Name**: `distilbert-base-uncased-finetuned-sst-2-english`\n",
        "    - **Purpose**: Analyzes user input to detect sentiment (positive/negative).\n",
        "- **Emotion Model**:\n",
        "    - **Name**: `bhadresh-savani/distilbert-base-uncased-emotion`\n",
        "    - **Purpose**: Extracts the user's emotional state from the input to guide the chatbot in suggesting a relevant activity.\n",
        "- **Activity Regeneration Model**:\n",
        "    - **Name**: `NousResearch/Llama-2-7b-chat-hf`\n",
        "    - **Purpose**: Generates a new activity suggestion if the user requests one, using previous inputs and context.\n",
        "\n",
        "## Workflow\n",
        "\n",
        "1. The user inputs a message describing their current mood or situation.\n",
        "2. The system first applies sentiment analysis using **'distilbert-base-uncased-finetuned-sst-2-english'** to classify the sentiment.\n",
        "3. Then, emotion detection is performed using **'bhadresh-savani/distilbert-base-uncased-emotion'** to identify the emotion behind the message.\n",
        "4. Based on the detected sentiment and emotion, the chatbot looks up an appropriate activity suggestion from a dataset.\n",
        "5. If the user requests another activity, the app will use **'NousResearch/Llama-2-7b-chat-hf'** to generate a fresh activity based on recent inputs and history.\n",
        "\n",
        "## How to Use\n",
        "1. **Input your current mood or situation**:\n",
        "    - Example: \"I've been feeling a bit restless and unproductive lately.\"\n",
        "2. **Receive an activity suggestion**:\n",
        "    - The chatbot will analyze the sentiment and emotion from your input and suggest an activity from the dataset.\n",
        "3. **Regenerate an activity** (Optional):\n",
        "    - If you're not satisfied with the suggestion, you can request a new activity, and the chatbot will generate one based on your recent inputs.\n",
        "\n",
        "## Example Interaction\n",
        "- **User**:\n",
        "```user\n",
        "Today dragged on with an overwhelming sense of boredom.\n",
        "```\n",
        "\n",
        "```bash\n",
        "%% Sentiment response %%\n",
        "{'label': 'Negative', 'score': 0.9990234375}\n",
        "\n",
        "%% Emotion response %%\n",
        "{'label': 'Sadness', 'score': 0.90478515625}\n",
        "```\n",
        "- **Chatbot**:\n",
        "```chatbot\n",
        "Talk to a close friend or therapist\n",
        "Please let me know if you want me to generate a new activity based on your input.\n",
        "```\n",
        "- **User**:\n",
        "```user\n",
        "I Wanna another activity.\n",
        "```\n",
        "- **Chatbot**:\n",
        "```chatbot\n",
        "Sure! How about we try a new activity? Let's play a game of virtual reality escape room. It's a fun and exciting way to pass the time and challenge your problem-solving skills. Would you like to give it a try?\n",
        "Please let me know if you want me to generate a new activity based on your input.\n",
        "```\n",
        "\n",
        "## Installation & Requirements\n",
        "\n",
        "1. **Install dependencies**:\n",
        "    - Install the required libraries using `pip`:\n",
        "        ``\n",
        "    ```bash\n",
        "    !pip install accelerate protobuf sentencepiece torch git+https://github.com/huggingface/transformers huggingface_hub gradio\n",
        "\t```\n",
        "1. **Run the app**:\n",
        "    - Launch the Gradio interface to start the chatbot:\n",
        "    ```googlecolab\n",
        "    demo.launch()\n",
        "\t```\n",
        "\n",
        "## Future Improvements\n",
        "\n",
        "- Expand the dataset to include a wider variety of activities for different emotional states.\n",
        "- Enhance the context-awareness of the chatbot for better follow-up suggestions.\n",
        "- Add multilingual support to reach a broader audience.\n"
      ],
      "metadata": {
        "id": "t-C4B4vfFsHH"
      }
    },
    {
      "cell_type": "code",
      "execution_count": 31,
      "metadata": {
        "id": "kPZ-NDCkwGAk"
      },
      "outputs": [],
      "source": [
        "!pip install accelerate protobuf sentencepiece torch git+https://github.com/huggingface/transformers huggingface_hub gradio"
      ]
    },
    {
      "cell_type": "code",
      "source": [
        "# Registred activities\n",
        "activity_json = {\n",
        "    \"Positive\": {\n",
        "        \"Love\": {\n",
        "            \"Low Effort\": \"Watch a romantic movie\",\n",
        "            \"Medium Effort\": \"Cook a special meal for a loved one\",\n",
        "            \"High Effort\": \"Plan a surprise date or weekend getaway\"\n",
        "        },\n",
        "        \"Joy\": {\n",
        "            \"Low Effort\": \"Listen to upbeat music\",\n",
        "            \"Medium Effort\": \"Go for a walk in nature\",\n",
        "            \"High Effort\": \"Organize a gathering with friends or family\"\n",
        "        },\n",
        "        \"Surprise\": {\n",
        "            \"Low Effort\": \"Send a thoughtful message or gift\",\n",
        "            \"Medium Effort\": \"Try a new hobby or activity\",\n",
        "            \"High Effort\": \"Plan an impromptu road trip\"\n",
        "        },\n",
        "        \"Sadness\": {\n",
        "            \"Low Effort\": \"Watch a feel-good movie to lift your spirits\",\n",
        "            \"Medium Effort\": \"Engage in a creative hobby like painting or writing\",\n",
        "            \"High Effort\": \"Volunteer to help others in need, boosting your mood\"\n",
        "        },\n",
        "        \"Anger\": {\n",
        "            \"Low Effort\": \"Listen to calming music or nature sounds\",\n",
        "            \"Medium Effort\": \"Do yoga or a meditation session to release tension\",\n",
        "            \"High Effort\": \"Participate in a team sport or an intense workout\"\n",
        "        },\n",
        "        \"Fear\": {\n",
        "            \"Low Effort\": \"Read an inspiring book or listen to a podcast on courage\",\n",
        "            \"Medium Effort\": \"Take a nature walk to regain a sense of safety and calm\",\n",
        "            \"High Effort\": \"Face a small fear (e.g., try something new that challenges you)\"\n",
        "        }\n",
        "    },\n",
        "    \"Negative\": {\n",
        "        \"Love\": {\n",
        "            \"Low Effort\": \"Isolate and reflect on past relationships with a sad song\",\n",
        "            \"Medium Effort\": \"Write a letter about your feelings, even if you don’t send it\",\n",
        "            \"High Effort\": \"Confront someone about unresolved issues, knowing it could hurt\"\n",
        "        },\n",
        "        \"Joy\": {\n",
        "            \"Low Effort\": \"Engage in mindless scrolling, numbing the happy feelings\",\n",
        "            \"Medium Effort\": \"Overindulge in comfort food or binge-watch TV, creating guilt\",\n",
        "            \"High Effort\": \"Cancel social plans last minute, causing disappointment\"\n",
        "        },\n",
        "        \"Surprise\": {\n",
        "            \"Low Effort\": \"Ignore a surprise gift or compliment, dismissing the effort\",\n",
        "            \"Medium Effort\": \"Respond to an unexpected event with sarcasm or pessimism\",\n",
        "            \"High Effort\": \"Deliberately avoid engaging with something exciting or new\"\n",
        "        },\n",
        "        \"Sadness\": {\n",
        "            \"Low Effort\": \"Watch a comforting TV show\",\n",
        "            \"Medium Effort\": \"Journal about your feelings\",\n",
        "            \"High Effort\": \"Talk to a close friend or therapist\"\n",
        "        },\n",
        "        \"Anger\": {\n",
        "            \"Low Effort\": \"Practice deep breathing exercises\",\n",
        "            \"Medium Effort\": \"Go for a run or workout\",\n",
        "            \"High Effort\": \"Join a kickboxing or high-intensity fitness class\"\n",
        "        },\n",
        "        \"Fear\": {\n",
        "            \"Low Effort\": \"Read a calming book or meditate\",\n",
        "            \"Medium Effort\": \"Take a calming walk in a safe place\",\n",
        "            \"High Effort\": \"Face a small fear (e.g., public speaking in a safe environment)\"\n",
        "        }\n",
        "    }\n",
        "}"
      ],
      "metadata": {
        "id": "9Snz-KbTgxdX"
      },
      "execution_count": 2,
      "outputs": []
    },
    {
      "cell_type": "code",
      "source": [
        "# Convert dict to dataframe type\n",
        "import pandas as pd\n",
        "import os\n",
        "\n",
        "data = []\n",
        "for sentiment, emotions in activity_json.items():\n",
        "    for emotion, efforts in emotions.items():\n",
        "        for effort, activity in efforts.items():\n",
        "            data.append([sentiment, emotion, effort, activity])\n",
        "\n",
        "# Create DataFrame\n",
        "activities_df = pd.DataFrame(data, columns=[\"Sentiment\", \"Emotion\", \"Effort\", \"Activity\"])\n"
      ],
      "metadata": {
        "id": "0tA09sdgdUow"
      },
      "execution_count": 3,
      "outputs": []
    },
    {
      "cell_type": "code",
      "source": [
        "# Define the path for the CSV file\n",
        "csv_file = 'qa_activities_dataset.csv'\n",
        "\n",
        "# Check if the CSV file exists; if not, create it with initial data\n",
        "if not os.path.exists(csv_file):\n",
        "    activities_df.to_csv(csv_file, index=False)\n",
        "else:\n",
        "    # Load the existing CSV file into a DataFrame\n",
        "    activities_df = pd.read_csv(csv_file)"
      ],
      "metadata": {
        "id": "2qYbmUotl9AW"
      },
      "execution_count": 4,
      "outputs": []
    },
    {
      "cell_type": "code",
      "source": [
        "# Login Hugging Face\n",
        "from huggingface_hub import login\n",
        "\n",
        "login(token=\"h-----------------------------------O\")"
      ],
      "metadata": {
        "id": "7xtl_P3Lq-OV"
      },
      "execution_count": 31,
      "outputs": []
    },
    {
      "cell_type": "code",
      "source": [
        "from transformers import DistilBertTokenizer, DistilBertForSequenceClassification, AutoModelForCausalLM, AutoTokenizer, pipeline\n",
        "import torch\n",
        "from torch.nn.functional import softmax\n",
        "\n",
        "# Initialize Modelstokenizer\n",
        "qa_model_name = \"NousResearch/Llama-2-7b-chat-hf\"\n",
        "qa_model = AutoModelForCausalLM.from_pretrained(qa_model_name, torch_dtype=torch.float16, device_map=\"auto\")\n",
        "qa_tokenizer = AutoTokenizer.from_pretrained(qa_model_name)\n",
        "qa_tokenizer.use_default_system_prompt = False\n",
        "\n",
        "sentiment_model_name = \"distilbert-base-uncased-finetuned-sst-2-english\"\n",
        "sentiment_model = DistilBertForSequenceClassification.from_pretrained(sentiment_model_name, torch_dtype=torch.float16)\n",
        "sentiment_tokenizer = DistilBertTokenizer.from_pretrained(sentiment_model_name)\n",
        "\n",
        "emotion_model_name = \"bhadresh-savani/distilbert-base-uncased-emotion\"\n",
        "emotion_model = DistilBertForSequenceClassification.from_pretrained(emotion_model_name, torch_dtype=torch.float16)\n",
        "emotion_tokenizer = DistilBertTokenizer.from_pretrained(emotion_model_name)\n",
        "\n",
        "# Initialize the pipeline using Hugging Face pipeline\n",
        "llama_pipeline = pipeline(\n",
        "    \"text-generation\",\n",
        "    model=qa_model,\n",
        "    tokenizer=qa_tokenizer,\n",
        "    torch_dtype=torch.float16,\n",
        "    device_map=\"auto\",\n",
        "    max_length=1024\n",
        ")\n"
      ],
      "metadata": {
        "id": "plFK11tDmVu1"
      },
      "execution_count": 31,
      "outputs": []
    },
    {
      "cell_type": "code",
      "source": [
        "def sentiment_analize(text):\n",
        "  '''\n",
        "    Analyze sentiment based in given text and return option\n",
        "\n",
        "    Parameters:\n",
        "      text (str): Text to analize sentiment\n",
        "\n",
        "    Returns:\n",
        "      sentiment (str): The sentiment by given text(Positive/Negative)\n",
        "  '''\n",
        "  inputs = sentiment_tokenizer(text, return_tensors=\"pt\")\n",
        "  with torch.no_grad():\n",
        "    logits = sentiment_model(**inputs).logits\n",
        "\n",
        "  predicted_class_id = logits.argmax().item()\n",
        "\n",
        "  probabilities = softmax(logits, dim=-1)\n",
        "\n",
        "  sentiment_analize_result = {\n",
        "      \"label\": sentiment_model.config.id2label[predicted_class_id].capitalize(),\n",
        "      \"score\": probabilities[0, predicted_class_id].item()\n",
        "  }\n",
        "\n",
        "  return sentiment_analize_result\n"
      ],
      "metadata": {
        "id": "AeKpjWZ4rcDx"
      },
      "execution_count": 7,
      "outputs": []
    },
    {
      "cell_type": "code",
      "source": [
        "def emotion_analize(text):\n",
        "  '''\n",
        "    Analyze emotion based in given text and return option\n",
        "\n",
        "    Parameters:\n",
        "      text (str): Text to analize emotion\n",
        "\n",
        "    Returns:\n",
        "      emotion (str): The emotion by given text(Love/Joy/Surprise/Sadness/Anger/Fear)\n",
        "  '''\n",
        "  inputs = emotion_tokenizer(text, return_tensors=\"pt\")\n",
        "\n",
        "  with torch.no_grad():\n",
        "    logits = emotion_model(**inputs).logits\n",
        "\n",
        "  predicted_class_id = logits.argmax().item()\n",
        "\n",
        "  probabilities = softmax(logits, dim=-1)\n",
        "\n",
        "  emotion_analize_result = {\n",
        "      \"label\": emotion_model.config.id2label[predicted_class_id].capitalize(),\n",
        "      \"score\": probabilities[0, predicted_class_id].item()\n",
        "  }\n",
        "\n",
        "  return emotion_analize_result"
      ],
      "metadata": {
        "id": "LAWOdsksu2jw"
      },
      "execution_count": 8,
      "outputs": []
    },
    {
      "cell_type": "code",
      "source": [
        "def get_activity(Sentiment, Emotion, Effort):\n",
        "  \"\"\"\n",
        "    Retrieves an activity suggestion based on the provided sentiment, emotion, and effort level.\n",
        "\n",
        "    Parameters:\n",
        "      Sentiment (str): A sentiment gived by the model(Positive/Negative).\n",
        "\n",
        "      Emotion (str): A specific emotion gived by the model(Love/Joy/Surprise/Sadness/Anger/Fear).\n",
        "\n",
        "      Effort (str): The effort calculate by the score(High Effort/Medium Effort/Low Effort).\n",
        "\n",
        "    Returns:\n",
        "      (str): The activity suggestion that matches the given sentiment, emotion, and effort level from the dataset.\n",
        "    \"\"\"\n",
        "  return activities_df[(activities_df['Sentiment'] == f'{Sentiment}') &\n",
        "                  (activities_df['Emotion'] == f'{Emotion}') &\n",
        "                  (activities_df['Effort'] == f'{Effort}')]['Activity'].values[0]"
      ],
      "metadata": {
        "id": "KTzYAvVqjt4G"
      },
      "execution_count": 10,
      "outputs": []
    },
    {
      "cell_type": "code",
      "source": [
        "def day_analyze(resume):\n",
        "  \"\"\"\n",
        "    Retrieves the user resume and calculate sentiment, emotion and the efort to get the correspondent activity.\n",
        "\n",
        "    Parameters:\n",
        "      resume (str): A prompt from the user.\n",
        "\n",
        "    Returns:\n",
        "      (str): The activity suggestion that matches the given sentiment, emotion, and effort level from the dataset.\n",
        "    \"\"\"\n",
        "  sentiment_result = sentiment_analize(resume)\n",
        "  emotion_result = emotion_analize(resume)\n",
        "\n",
        "  average_score = round((sentiment_result['score'] + emotion_result['score']) / 0.2, 1)\n",
        "\n",
        "  if average_score > 8.5:\n",
        "    return get_activity(sentiment_result['label'], emotion_result['label'], 'High Effort')\n",
        "  elif average_score > 6.5:\n",
        "    return get_activity(sentiment_result['label'], emotion_result['label'], 'Medium Effort')\n",
        "  elif average_score > 0:\n",
        "    return get_activity(sentiment_result['label'], emotion_result['label'], 'Low Effort\t')\n",
        "  else:\n",
        "    return 'None activity found'"
      ],
      "metadata": {
        "id": "OGgX0FMt49Zf"
      },
      "execution_count": 11,
      "outputs": []
    },
    {
      "cell_type": "code",
      "source": [
        "def day_activity(input, history):\n",
        "    \"\"\"\n",
        "      Generates an activity suggestion based on the user's input and conversation history.\n",
        "\n",
        "      Parameters:\n",
        "        input (str): The current input or request from the user.\n",
        "\n",
        "        history (list): A list of lists representing the conversation history, where each list contains\n",
        "          the user's previous input and the chatbot's last response.\n",
        "\n",
        "      Returns:\n",
        "        (str): A generated activity suggestion, followed by a message asking the user if they want a new activity.\n",
        "\n",
        "    \"\"\"\n",
        "    if len(history) == 0:\n",
        "      answer = day_analyze(input)\n",
        "\n",
        "    else:\n",
        "      last_response = history[-1][1].replace(\"\\nPlease let me know if you want me to generate a new activity based on your input.\", \"\")\n",
        "      prompt = f\"\"\"\n",
        "        request: Create a new activity and return just the new activit created, without question.\n",
        "        current generated activity: {last_response}\n",
        "        last input: {history[-1][0]}\n",
        "        current input: {input}\n",
        "      \"\"\"\n",
        "      activity = llama_pipeline(prompt, max_length=150, do_sample=True)[0]['generated_text']\n",
        "\n",
        "      list_activity = activity.split(\"\\n\")\n",
        "      list_prompt = prompt.split(\"\\n\")\n",
        "\n",
        "      for item_prompt in list_prompt:\n",
        "        for item_text in list_activity:\n",
        "          if item_prompt == item_text:\n",
        "            list_activity.remove(item_text)\n",
        "\n",
        "      answer = '\\n'.join(list_activity)\n",
        "\n",
        "    answer = f\"{answer}\\nPlease let me know if you want me to generate a new activity based on your input.\"\n",
        "    return answer\n"
      ],
      "metadata": {
        "id": "cSGcX3r0vmhX"
      },
      "execution_count": 28,
      "outputs": []
    },
    {
      "cell_type": "code",
      "source": [
        "import gradio as gr\n",
        "\n",
        "# Create chat instance\n",
        "chat = gr.ChatInterface(\n",
        "    fn=day_activity,\n",
        "    title=\"Activity Suggestion Chatbot\",\n",
        "    description='<p style=\"text-align: center;\">Tell me  about your day, and I\\'ll give you a <strong>ACTIVITY</strong></p>',\n",
        ")\n"
      ],
      "metadata": {
        "id": "T5fsBLlq-Qs6"
      },
      "execution_count": 29,
      "outputs": []
    },
    {
      "cell_type": "code",
      "source": [
        "# Launch app\n",
        "chat.launch()"
      ],
      "metadata": {
        "id": "jZwS_T0QFnu4"
      },
      "execution_count": 31,
      "outputs": []
    }
  ]
}