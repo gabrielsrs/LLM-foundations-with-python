{
  "nbformat": 4,
  "nbformat_minor": 0,
  "metadata": {
    "colab": {
      "provenance": [],
      "gpuType": "T4",
      "authorship_tag": "ABX9TyO3kh0qvCWS3gSJHZlU30km",
      "include_colab_link": true
    },
    "kernelspec": {
      "name": "python3",
      "display_name": "Python 3"
    },
    "language_info": {
      "name": "python"
    },
    "accelerator": "GPU",
    "widgets": {
      "application/vnd.jupyter.widget-state+json": {
        "b3bef4e2f96643fe818ac3c13c160a3a": {
          "model_module": "@jupyter-widgets/controls",
          "model_name": "HBoxModel",
          "model_module_version": "1.5.0",
          "state": {
            "_dom_classes": [],
            "_model_module": "@jupyter-widgets/controls",
            "_model_module_version": "1.5.0",
            "_model_name": "HBoxModel",
            "_view_count": null,
            "_view_module": "@jupyter-widgets/controls",
            "_view_module_version": "1.5.0",
            "_view_name": "HBoxView",
            "box_style": "",
            "children": [
              "IPY_MODEL_a11d788cfe004de68985036e1aee4552",
              "IPY_MODEL_3e1a4520866a42878cb408723165045f",
              "IPY_MODEL_c6850738867c4d7e862ee52cbda97f10"
            ],
            "layout": "IPY_MODEL_2e82a3ce24ae48178d4c22e2da960792"
          }
        },
        "a11d788cfe004de68985036e1aee4552": {
          "model_module": "@jupyter-widgets/controls",
          "model_name": "HTMLModel",
          "model_module_version": "1.5.0",
          "state": {
            "_dom_classes": [],
            "_model_module": "@jupyter-widgets/controls",
            "_model_module_version": "1.5.0",
            "_model_name": "HTMLModel",
            "_view_count": null,
            "_view_module": "@jupyter-widgets/controls",
            "_view_module_version": "1.5.0",
            "_view_name": "HTMLView",
            "description": "",
            "description_tooltip": null,
            "layout": "IPY_MODEL_acca1dd1361b4435bfc1e03e78744766",
            "placeholder": "​",
            "style": "IPY_MODEL_13eaa6c6e51f4738aa0590d69a97a7a0",
            "value": "Loading checkpoint shards: 100%"
          }
        },
        "3e1a4520866a42878cb408723165045f": {
          "model_module": "@jupyter-widgets/controls",
          "model_name": "FloatProgressModel",
          "model_module_version": "1.5.0",
          "state": {
            "_dom_classes": [],
            "_model_module": "@jupyter-widgets/controls",
            "_model_module_version": "1.5.0",
            "_model_name": "FloatProgressModel",
            "_view_count": null,
            "_view_module": "@jupyter-widgets/controls",
            "_view_module_version": "1.5.0",
            "_view_name": "ProgressView",
            "bar_style": "success",
            "description": "",
            "description_tooltip": null,
            "layout": "IPY_MODEL_f1126b658a864a659483150f4b351611",
            "max": 2,
            "min": 0,
            "orientation": "horizontal",
            "style": "IPY_MODEL_81afcc84e2674762ab4261dc259c5699",
            "value": 2
          }
        },
        "c6850738867c4d7e862ee52cbda97f10": {
          "model_module": "@jupyter-widgets/controls",
          "model_name": "HTMLModel",
          "model_module_version": "1.5.0",
          "state": {
            "_dom_classes": [],
            "_model_module": "@jupyter-widgets/controls",
            "_model_module_version": "1.5.0",
            "_model_name": "HTMLModel",
            "_view_count": null,
            "_view_module": "@jupyter-widgets/controls",
            "_view_module_version": "1.5.0",
            "_view_name": "HTMLView",
            "description": "",
            "description_tooltip": null,
            "layout": "IPY_MODEL_8a7c595c9c7a43b4b2b151b020f17486",
            "placeholder": "​",
            "style": "IPY_MODEL_abfc7981fe3e4019b2c1809b3d9b96e8",
            "value": " 2/2 [00:01&lt;00:00,  1.76it/s]"
          }
        },
        "2e82a3ce24ae48178d4c22e2da960792": {
          "model_module": "@jupyter-widgets/base",
          "model_name": "LayoutModel",
          "model_module_version": "1.2.0",
          "state": {
            "_model_module": "@jupyter-widgets/base",
            "_model_module_version": "1.2.0",
            "_model_name": "LayoutModel",
            "_view_count": null,
            "_view_module": "@jupyter-widgets/base",
            "_view_module_version": "1.2.0",
            "_view_name": "LayoutView",
            "align_content": null,
            "align_items": null,
            "align_self": null,
            "border": null,
            "bottom": null,
            "display": null,
            "flex": null,
            "flex_flow": null,
            "grid_area": null,
            "grid_auto_columns": null,
            "grid_auto_flow": null,
            "grid_auto_rows": null,
            "grid_column": null,
            "grid_gap": null,
            "grid_row": null,
            "grid_template_areas": null,
            "grid_template_columns": null,
            "grid_template_rows": null,
            "height": null,
            "justify_content": null,
            "justify_items": null,
            "left": null,
            "margin": null,
            "max_height": null,
            "max_width": null,
            "min_height": null,
            "min_width": null,
            "object_fit": null,
            "object_position": null,
            "order": null,
            "overflow": null,
            "overflow_x": null,
            "overflow_y": null,
            "padding": null,
            "right": null,
            "top": null,
            "visibility": null,
            "width": null
          }
        },
        "acca1dd1361b4435bfc1e03e78744766": {
          "model_module": "@jupyter-widgets/base",
          "model_name": "LayoutModel",
          "model_module_version": "1.2.0",
          "state": {
            "_model_module": "@jupyter-widgets/base",
            "_model_module_version": "1.2.0",
            "_model_name": "LayoutModel",
            "_view_count": null,
            "_view_module": "@jupyter-widgets/base",
            "_view_module_version": "1.2.0",
            "_view_name": "LayoutView",
            "align_content": null,
            "align_items": null,
            "align_self": null,
            "border": null,
            "bottom": null,
            "display": null,
            "flex": null,
            "flex_flow": null,
            "grid_area": null,
            "grid_auto_columns": null,
            "grid_auto_flow": null,
            "grid_auto_rows": null,
            "grid_column": null,
            "grid_gap": null,
            "grid_row": null,
            "grid_template_areas": null,
            "grid_template_columns": null,
            "grid_template_rows": null,
            "height": null,
            "justify_content": null,
            "justify_items": null,
            "left": null,
            "margin": null,
            "max_height": null,
            "max_width": null,
            "min_height": null,
            "min_width": null,
            "object_fit": null,
            "object_position": null,
            "order": null,
            "overflow": null,
            "overflow_x": null,
            "overflow_y": null,
            "padding": null,
            "right": null,
            "top": null,
            "visibility": null,
            "width": null
          }
        },
        "13eaa6c6e51f4738aa0590d69a97a7a0": {
          "model_module": "@jupyter-widgets/controls",
          "model_name": "DescriptionStyleModel",
          "model_module_version": "1.5.0",
          "state": {
            "_model_module": "@jupyter-widgets/controls",
            "_model_module_version": "1.5.0",
            "_model_name": "DescriptionStyleModel",
            "_view_count": null,
            "_view_module": "@jupyter-widgets/base",
            "_view_module_version": "1.2.0",
            "_view_name": "StyleView",
            "description_width": ""
          }
        },
        "f1126b658a864a659483150f4b351611": {
          "model_module": "@jupyter-widgets/base",
          "model_name": "LayoutModel",
          "model_module_version": "1.2.0",
          "state": {
            "_model_module": "@jupyter-widgets/base",
            "_model_module_version": "1.2.0",
            "_model_name": "LayoutModel",
            "_view_count": null,
            "_view_module": "@jupyter-widgets/base",
            "_view_module_version": "1.2.0",
            "_view_name": "LayoutView",
            "align_content": null,
            "align_items": null,
            "align_self": null,
            "border": null,
            "bottom": null,
            "display": null,
            "flex": null,
            "flex_flow": null,
            "grid_area": null,
            "grid_auto_columns": null,
            "grid_auto_flow": null,
            "grid_auto_rows": null,
            "grid_column": null,
            "grid_gap": null,
            "grid_row": null,
            "grid_template_areas": null,
            "grid_template_columns": null,
            "grid_template_rows": null,
            "height": null,
            "justify_content": null,
            "justify_items": null,
            "left": null,
            "margin": null,
            "max_height": null,
            "max_width": null,
            "min_height": null,
            "min_width": null,
            "object_fit": null,
            "object_position": null,
            "order": null,
            "overflow": null,
            "overflow_x": null,
            "overflow_y": null,
            "padding": null,
            "right": null,
            "top": null,
            "visibility": null,
            "width": null
          }
        },
        "81afcc84e2674762ab4261dc259c5699": {
          "model_module": "@jupyter-widgets/controls",
          "model_name": "ProgressStyleModel",
          "model_module_version": "1.5.0",
          "state": {
            "_model_module": "@jupyter-widgets/controls",
            "_model_module_version": "1.5.0",
            "_model_name": "ProgressStyleModel",
            "_view_count": null,
            "_view_module": "@jupyter-widgets/base",
            "_view_module_version": "1.2.0",
            "_view_name": "StyleView",
            "bar_color": null,
            "description_width": ""
          }
        },
        "8a7c595c9c7a43b4b2b151b020f17486": {
          "model_module": "@jupyter-widgets/base",
          "model_name": "LayoutModel",
          "model_module_version": "1.2.0",
          "state": {
            "_model_module": "@jupyter-widgets/base",
            "_model_module_version": "1.2.0",
            "_model_name": "LayoutModel",
            "_view_count": null,
            "_view_module": "@jupyter-widgets/base",
            "_view_module_version": "1.2.0",
            "_view_name": "LayoutView",
            "align_content": null,
            "align_items": null,
            "align_self": null,
            "border": null,
            "bottom": null,
            "display": null,
            "flex": null,
            "flex_flow": null,
            "grid_area": null,
            "grid_auto_columns": null,
            "grid_auto_flow": null,
            "grid_auto_rows": null,
            "grid_column": null,
            "grid_gap": null,
            "grid_row": null,
            "grid_template_areas": null,
            "grid_template_columns": null,
            "grid_template_rows": null,
            "height": null,
            "justify_content": null,
            "justify_items": null,
            "left": null,
            "margin": null,
            "max_height": null,
            "max_width": null,
            "min_height": null,
            "min_width": null,
            "object_fit": null,
            "object_position": null,
            "order": null,
            "overflow": null,
            "overflow_x": null,
            "overflow_y": null,
            "padding": null,
            "right": null,
            "top": null,
            "visibility": null,
            "width": null
          }
        },
        "abfc7981fe3e4019b2c1809b3d9b96e8": {
          "model_module": "@jupyter-widgets/controls",
          "model_name": "DescriptionStyleModel",
          "model_module_version": "1.5.0",
          "state": {
            "_model_module": "@jupyter-widgets/controls",
            "_model_module_version": "1.5.0",
            "_model_name": "DescriptionStyleModel",
            "_view_count": null,
            "_view_module": "@jupyter-widgets/base",
            "_view_module_version": "1.2.0",
            "_view_name": "StyleView",
            "description_width": ""
          }
        }
      }
    }
  },
  "cells": [
    {
      "cell_type": "markdown",
      "metadata": {
        "id": "view-in-github",
        "colab_type": "text"
      },
      "source": [
        "<a href=\"https://colab.research.google.com/github/gabrielsrs/LLM-foundations-with-python/blob/master/LLM_foundations_with_python.ipynb\" target=\"_parent\"><img src=\"https://colab.research.google.com/assets/colab-badge.svg\" alt=\"Open In Colab\"/></a>"
      ]
    },
    {
      "cell_type": "markdown",
      "source": [
        "# Activity Suggestion Chatbot\n",
        "\n",
        "## Overview\n",
        "\n",
        "This project is a chatbot-based application that suggests personalized activities based on the sentiment and emotion detected in user inputs. By analyzing a user's mood and preferences, the chatbot recommends activities to enhance productivity, relaxation, or mental well-being. If the user is unsatisfied with the suggested activity, the chatbot can generate a new one based on recent user inputs.\n",
        "\n",
        "## Features\n",
        "1. **Sentiment Analysis**:\n",
        "    - Uses the **'distilbert-base-uncased-finetuned-sst-2-english'** model to detect the sentiment of the user input (positive or negative).\n",
        "2. **Emotion Detection**:\n",
        "    - Leverages the **'bhadresh-savani/distilbert-base-uncased-emotion'** model to identify the user's emotion (e.g., sadness, joy, anger) from the input.\n",
        "3. **Activity Suggestion**:\n",
        "    - Based on the detected sentiment and emotion, the app looks up an appropriate activity from a predefined dataset. The dataset maps different emotions and sentiments to various activities.\n",
        "4. **Regenerate New Activity**:\n",
        "    - If the user wants a different activity, the **'NousResearch/Llama-2-7b-chat-hf'** model generates a new activity based on recent inputs, including user feedback and the previously suggested activity.\n",
        "\n",
        "## Models Used\n",
        "- **Sentiment Model**:\n",
        "    - **Name**: `distilbert-base-uncased-finetuned-sst-2-english`\n",
        "    - **Purpose**: Analyzes user input to detect sentiment (positive/negative).\n",
        "- **Emotion Model**:\n",
        "    - **Name**: `bhadresh-savani/distilbert-base-uncased-emotion`\n",
        "    - **Purpose**: Extracts the user's emotional state from the input to guide the chatbot in suggesting a relevant activity.\n",
        "- **Activity Regeneration Model**:\n",
        "    - **Name**: `NousResearch/Llama-2-7b-chat-hf`\n",
        "    - **Purpose**: Generates a new activity suggestion if the user requests one, using previous inputs and context.\n",
        "\n",
        "## Workflow\n",
        "\n",
        "1. The user inputs a message describing their current mood or situation.\n",
        "2. The system first applies sentiment analysis using **'distilbert-base-uncased-finetuned-sst-2-english'** to classify the sentiment.\n",
        "3. Then, emotion detection is performed using **'bhadresh-savani/distilbert-base-uncased-emotion'** to identify the emotion behind the message.\n",
        "4. Based on the detected sentiment and emotion, the chatbot looks up an appropriate activity suggestion from a dataset.\n",
        "5. If the user requests another activity, the app will use **'NousResearch/Llama-2-7b-chat-hf'** to generate a fresh activity based on recent inputs and history.\n",
        "\n",
        "## How to Use\n",
        "1. **Input your current mood or situation**:\n",
        "    - Example: \"I've been feeling a bit restless and unproductive lately.\"\n",
        "2. **Receive an activity suggestion**:\n",
        "    - The chatbot will analyze the sentiment and emotion from your input and suggest an activity from the dataset.\n",
        "3. **Regenerate an activity** (Optional):\n",
        "    - If you're not satisfied with the suggestion, you can request a new activity, and the chatbot will generate one based on your recent inputs.\n",
        "\n",
        "## Example Interaction\n",
        "- **User**:\n",
        "```user\n",
        "Today dragged on with an overwhelming sense of boredom.\n",
        "```\n",
        "\n",
        "```bash\n",
        "%% Sentiment response %%\n",
        "{'label': 'Negative', 'score': 0.9990234375}\n",
        "\n",
        "%% Emotion response %%\n",
        "{'label': 'Sadness', 'score': 0.90478515625}\n",
        "```\n",
        "- **Chatbot**:\n",
        "```chatbot\n",
        "Talk to a close friend or therapist\n",
        "Please let me know if you want me to generate a new activity based on your input.\n",
        "```\n",
        "- **User**:\n",
        "```user\n",
        "I Wanna another activity.\n",
        "```\n",
        "- **Chatbot**:\n",
        "```chatbot\n",
        "Sure! How about we try a new activity? Let's play a game of virtual reality escape room. It's a fun and exciting way to pass the time and challenge your problem-solving skills. Would you like to give it a try?\n",
        "Please let me know if you want me to generate a new activity based on your input.\n",
        "```\n",
        "\n",
        "## Installation & Requirements\n",
        "\n",
        "1. **Install dependencies**:\n",
        "    - Install the required libraries using `pip`:\n",
        "        ``\n",
        "    ```bash\n",
        "    !pip install accelerate protobuf sentencepiece torch git+https://github.com/huggingface/transformers huggingface_hub gradio\n",
        "\t```\n",
        "1. **Run the app**:\n",
        "    - Launch the Gradio interface to start the chatbot:\n",
        "    ```googlecolab\n",
        "    demo.launch()\n",
        "\t```\n",
        "\n",
        "## Future Improvements\n",
        "\n",
        "- Expand the dataset to include a wider variety of activities for different emotional states.\n",
        "- Enhance the context-awareness of the chatbot for better follow-up suggestions.\n",
        "- Add multilingual support to reach a broader audience.\n"
      ],
      "metadata": {
        "id": "t-C4B4vfFsHH"
      }
    },
    {
      "cell_type": "code",
      "execution_count": 1,
      "metadata": {
        "id": "kPZ-NDCkwGAk",
        "colab": {
          "base_uri": "https://localhost:8080/"
        },
        "outputId": "d710e738-0528-44e3-b4ad-8355e1555933"
      },
      "outputs": [
        {
          "output_type": "stream",
          "name": "stdout",
          "text": [
            "Collecting git+https://github.com/huggingface/transformers\n",
            "  Cloning https://github.com/huggingface/transformers to /tmp/pip-req-build-7jbkgqyu\n",
            "  Running command git clone --filter=blob:none --quiet https://github.com/huggingface/transformers /tmp/pip-req-build-7jbkgqyu\n",
            "  Resolved https://github.com/huggingface/transformers to commit e1b150862e66e16acf951edfa13206ffcd1032be\n",
            "  Installing build dependencies ... \u001b[?25l\u001b[?25hdone\n",
            "  Getting requirements to build wheel ... \u001b[?25l\u001b[?25hdone\n",
            "  Preparing metadata (pyproject.toml) ... \u001b[?25l\u001b[?25hdone\n",
            "Requirement already satisfied: accelerate in /usr/local/lib/python3.10/dist-packages (0.34.2)\n",
            "Requirement already satisfied: protobuf in /usr/local/lib/python3.10/dist-packages (3.20.3)\n",
            "Requirement already satisfied: sentencepiece in /usr/local/lib/python3.10/dist-packages (0.2.0)\n",
            "Requirement already satisfied: torch in /usr/local/lib/python3.10/dist-packages (2.4.1+cu121)\n",
            "Requirement already satisfied: huggingface_hub in /usr/local/lib/python3.10/dist-packages (0.24.7)\n",
            "Requirement already satisfied: gradio in /usr/local/lib/python3.10/dist-packages (4.44.0)\n",
            "Requirement already satisfied: numpy<3.0.0,>=1.17 in /usr/local/lib/python3.10/dist-packages (from accelerate) (1.26.4)\n",
            "Requirement already satisfied: packaging>=20.0 in /usr/local/lib/python3.10/dist-packages (from accelerate) (24.1)\n",
            "Requirement already satisfied: psutil in /usr/local/lib/python3.10/dist-packages (from accelerate) (5.9.5)\n",
            "Requirement already satisfied: pyyaml in /usr/local/lib/python3.10/dist-packages (from accelerate) (6.0.2)\n",
            "Requirement already satisfied: safetensors>=0.4.3 in /usr/local/lib/python3.10/dist-packages (from accelerate) (0.4.5)\n",
            "Requirement already satisfied: filelock in /usr/local/lib/python3.10/dist-packages (from torch) (3.16.1)\n",
            "Requirement already satisfied: typing-extensions>=4.8.0 in /usr/local/lib/python3.10/dist-packages (from torch) (4.12.2)\n",
            "Requirement already satisfied: sympy in /usr/local/lib/python3.10/dist-packages (from torch) (1.13.3)\n",
            "Requirement already satisfied: networkx in /usr/local/lib/python3.10/dist-packages (from torch) (3.3)\n",
            "Requirement already satisfied: jinja2 in /usr/local/lib/python3.10/dist-packages (from torch) (3.1.4)\n",
            "Requirement already satisfied: fsspec in /usr/local/lib/python3.10/dist-packages (from torch) (2024.6.1)\n",
            "Requirement already satisfied: regex!=2019.12.17 in /usr/local/lib/python3.10/dist-packages (from transformers==4.46.0.dev0) (2024.9.11)\n",
            "Requirement already satisfied: requests in /usr/local/lib/python3.10/dist-packages (from transformers==4.46.0.dev0) (2.32.3)\n",
            "Requirement already satisfied: tokenizers<0.21,>=0.20 in /usr/local/lib/python3.10/dist-packages (from transformers==4.46.0.dev0) (0.20.0)\n",
            "Requirement already satisfied: tqdm>=4.27 in /usr/local/lib/python3.10/dist-packages (from transformers==4.46.0.dev0) (4.66.5)\n",
            "Requirement already satisfied: aiofiles<24.0,>=22.0 in /usr/local/lib/python3.10/dist-packages (from gradio) (23.2.1)\n",
            "Requirement already satisfied: anyio<5.0,>=3.0 in /usr/local/lib/python3.10/dist-packages (from gradio) (3.7.1)\n",
            "Requirement already satisfied: fastapi<1.0 in /usr/local/lib/python3.10/dist-packages (from gradio) (0.115.0)\n",
            "Requirement already satisfied: ffmpy in /usr/local/lib/python3.10/dist-packages (from gradio) (0.4.0)\n",
            "Requirement already satisfied: gradio-client==1.3.0 in /usr/local/lib/python3.10/dist-packages (from gradio) (1.3.0)\n",
            "Requirement already satisfied: httpx>=0.24.1 in /usr/local/lib/python3.10/dist-packages (from gradio) (0.27.2)\n",
            "Requirement already satisfied: importlib-resources<7.0,>=1.3 in /usr/local/lib/python3.10/dist-packages (from gradio) (6.4.5)\n",
            "Requirement already satisfied: markupsafe~=2.0 in /usr/local/lib/python3.10/dist-packages (from gradio) (2.1.5)\n",
            "Requirement already satisfied: matplotlib~=3.0 in /usr/local/lib/python3.10/dist-packages (from gradio) (3.7.1)\n",
            "Requirement already satisfied: orjson~=3.0 in /usr/local/lib/python3.10/dist-packages (from gradio) (3.10.7)\n",
            "Requirement already satisfied: pandas<3.0,>=1.0 in /usr/local/lib/python3.10/dist-packages (from gradio) (2.1.4)\n",
            "Requirement already satisfied: pillow<11.0,>=8.0 in /usr/local/lib/python3.10/dist-packages (from gradio) (10.4.0)\n",
            "Requirement already satisfied: pydantic>=2.0 in /usr/local/lib/python3.10/dist-packages (from gradio) (2.9.2)\n",
            "Requirement already satisfied: pydub in /usr/local/lib/python3.10/dist-packages (from gradio) (0.25.1)\n",
            "Requirement already satisfied: python-multipart>=0.0.9 in /usr/local/lib/python3.10/dist-packages (from gradio) (0.0.10)\n",
            "Requirement already satisfied: ruff>=0.2.2 in /usr/local/lib/python3.10/dist-packages (from gradio) (0.6.8)\n",
            "Requirement already satisfied: semantic-version~=2.0 in /usr/local/lib/python3.10/dist-packages (from gradio) (2.10.0)\n",
            "Requirement already satisfied: tomlkit==0.12.0 in /usr/local/lib/python3.10/dist-packages (from gradio) (0.12.0)\n",
            "Requirement already satisfied: typer<1.0,>=0.12 in /usr/local/lib/python3.10/dist-packages (from gradio) (0.12.5)\n",
            "Requirement already satisfied: urllib3~=2.0 in /usr/local/lib/python3.10/dist-packages (from gradio) (2.2.3)\n",
            "Requirement already satisfied: uvicorn>=0.14.0 in /usr/local/lib/python3.10/dist-packages (from gradio) (0.30.6)\n",
            "Requirement already satisfied: websockets<13.0,>=10.0 in /usr/local/lib/python3.10/dist-packages (from gradio-client==1.3.0->gradio) (12.0)\n",
            "Requirement already satisfied: idna>=2.8 in /usr/local/lib/python3.10/dist-packages (from anyio<5.0,>=3.0->gradio) (3.10)\n",
            "Requirement already satisfied: sniffio>=1.1 in /usr/local/lib/python3.10/dist-packages (from anyio<5.0,>=3.0->gradio) (1.3.1)\n",
            "Requirement already satisfied: exceptiongroup in /usr/local/lib/python3.10/dist-packages (from anyio<5.0,>=3.0->gradio) (1.2.2)\n",
            "Requirement already satisfied: starlette<0.39.0,>=0.37.2 in /usr/local/lib/python3.10/dist-packages (from fastapi<1.0->gradio) (0.38.6)\n",
            "Requirement already satisfied: certifi in /usr/local/lib/python3.10/dist-packages (from httpx>=0.24.1->gradio) (2024.8.30)\n",
            "Requirement already satisfied: httpcore==1.* in /usr/local/lib/python3.10/dist-packages (from httpx>=0.24.1->gradio) (1.0.5)\n",
            "Requirement already satisfied: h11<0.15,>=0.13 in /usr/local/lib/python3.10/dist-packages (from httpcore==1.*->httpx>=0.24.1->gradio) (0.14.0)\n",
            "Requirement already satisfied: contourpy>=1.0.1 in /usr/local/lib/python3.10/dist-packages (from matplotlib~=3.0->gradio) (1.3.0)\n",
            "Requirement already satisfied: cycler>=0.10 in /usr/local/lib/python3.10/dist-packages (from matplotlib~=3.0->gradio) (0.12.1)\n",
            "Requirement already satisfied: fonttools>=4.22.0 in /usr/local/lib/python3.10/dist-packages (from matplotlib~=3.0->gradio) (4.53.1)\n",
            "Requirement already satisfied: kiwisolver>=1.0.1 in /usr/local/lib/python3.10/dist-packages (from matplotlib~=3.0->gradio) (1.4.7)\n",
            "Requirement already satisfied: pyparsing>=2.3.1 in /usr/local/lib/python3.10/dist-packages (from matplotlib~=3.0->gradio) (3.1.4)\n",
            "Requirement already satisfied: python-dateutil>=2.7 in /usr/local/lib/python3.10/dist-packages (from matplotlib~=3.0->gradio) (2.8.2)\n",
            "Requirement already satisfied: pytz>=2020.1 in /usr/local/lib/python3.10/dist-packages (from pandas<3.0,>=1.0->gradio) (2024.2)\n",
            "Requirement already satisfied: tzdata>=2022.1 in /usr/local/lib/python3.10/dist-packages (from pandas<3.0,>=1.0->gradio) (2024.1)\n",
            "Requirement already satisfied: annotated-types>=0.6.0 in /usr/local/lib/python3.10/dist-packages (from pydantic>=2.0->gradio) (0.7.0)\n",
            "Requirement already satisfied: pydantic-core==2.23.4 in /usr/local/lib/python3.10/dist-packages (from pydantic>=2.0->gradio) (2.23.4)\n",
            "Requirement already satisfied: click>=8.0.0 in /usr/local/lib/python3.10/dist-packages (from typer<1.0,>=0.12->gradio) (8.1.7)\n",
            "Requirement already satisfied: shellingham>=1.3.0 in /usr/local/lib/python3.10/dist-packages (from typer<1.0,>=0.12->gradio) (1.5.4)\n",
            "Requirement already satisfied: rich>=10.11.0 in /usr/local/lib/python3.10/dist-packages (from typer<1.0,>=0.12->gradio) (13.8.1)\n",
            "Requirement already satisfied: charset-normalizer<4,>=2 in /usr/local/lib/python3.10/dist-packages (from requests->transformers==4.46.0.dev0) (3.3.2)\n",
            "Requirement already satisfied: mpmath<1.4,>=1.1.0 in /usr/local/lib/python3.10/dist-packages (from sympy->torch) (1.3.0)\n",
            "Requirement already satisfied: six>=1.5 in /usr/local/lib/python3.10/dist-packages (from python-dateutil>=2.7->matplotlib~=3.0->gradio) (1.16.0)\n",
            "Requirement already satisfied: markdown-it-py>=2.2.0 in /usr/local/lib/python3.10/dist-packages (from rich>=10.11.0->typer<1.0,>=0.12->gradio) (3.0.0)\n",
            "Requirement already satisfied: pygments<3.0.0,>=2.13.0 in /usr/local/lib/python3.10/dist-packages (from rich>=10.11.0->typer<1.0,>=0.12->gradio) (2.18.0)\n",
            "Requirement already satisfied: mdurl~=0.1 in /usr/local/lib/python3.10/dist-packages (from markdown-it-py>=2.2.0->rich>=10.11.0->typer<1.0,>=0.12->gradio) (0.1.2)\n"
          ]
        }
      ],
      "source": [
        "!pip install accelerate protobuf sentencepiece torch git+https://github.com/huggingface/transformers huggingface_hub gradio"
      ]
    },
    {
      "cell_type": "code",
      "source": [
        "# Registred activities\n",
        "activity_json = {\n",
        "    \"Positive\": {\n",
        "        \"Love\": {\n",
        "            \"Low Effort\": \"Watch a romantic movie\",\n",
        "            \"Medium Effort\": \"Cook a special meal for a loved one\",\n",
        "            \"High Effort\": \"Plan a surprise date or weekend getaway\"\n",
        "        },\n",
        "        \"Joy\": {\n",
        "            \"Low Effort\": \"Listen to upbeat music\",\n",
        "            \"Medium Effort\": \"Go for a walk in nature\",\n",
        "            \"High Effort\": \"Organize a gathering with friends or family\"\n",
        "        },\n",
        "        \"Surprise\": {\n",
        "            \"Low Effort\": \"Send a thoughtful message or gift\",\n",
        "            \"Medium Effort\": \"Try a new hobby or activity\",\n",
        "            \"High Effort\": \"Plan an impromptu road trip\"\n",
        "        },\n",
        "        \"Sadness\": {\n",
        "            \"Low Effort\": \"Watch a feel-good movie to lift your spirits\",\n",
        "            \"Medium Effort\": \"Engage in a creative hobby like painting or writing\",\n",
        "            \"High Effort\": \"Volunteer to help others in need, boosting your mood\"\n",
        "        },\n",
        "        \"Anger\": {\n",
        "            \"Low Effort\": \"Listen to calming music or nature sounds\",\n",
        "            \"Medium Effort\": \"Do yoga or a meditation session to release tension\",\n",
        "            \"High Effort\": \"Participate in a team sport or an intense workout\"\n",
        "        },\n",
        "        \"Fear\": {\n",
        "            \"Low Effort\": \"Read an inspiring book or listen to a podcast on courage\",\n",
        "            \"Medium Effort\": \"Take a nature walk to regain a sense of safety and calm\",\n",
        "            \"High Effort\": \"Face a small fear (e.g., try something new that challenges you)\"\n",
        "        }\n",
        "    },\n",
        "    \"Negative\": {\n",
        "        \"Love\": {\n",
        "            \"Low Effort\": \"Isolate and reflect on past relationships with a sad song\",\n",
        "            \"Medium Effort\": \"Write a letter about your feelings, even if you don’t send it\",\n",
        "            \"High Effort\": \"Confront someone about unresolved issues, knowing it could hurt\"\n",
        "        },\n",
        "        \"Joy\": {\n",
        "            \"Low Effort\": \"Engage in mindless scrolling, numbing the happy feelings\",\n",
        "            \"Medium Effort\": \"Overindulge in comfort food or binge-watch TV, creating guilt\",\n",
        "            \"High Effort\": \"Cancel social plans last minute, causing disappointment\"\n",
        "        },\n",
        "        \"Surprise\": {\n",
        "            \"Low Effort\": \"Ignore a surprise gift or compliment, dismissing the effort\",\n",
        "            \"Medium Effort\": \"Respond to an unexpected event with sarcasm or pessimism\",\n",
        "            \"High Effort\": \"Deliberately avoid engaging with something exciting or new\"\n",
        "        },\n",
        "        \"Sadness\": {\n",
        "            \"Low Effort\": \"Watch a comforting TV show\",\n",
        "            \"Medium Effort\": \"Journal about your feelings\",\n",
        "            \"High Effort\": \"Talk to a close friend or therapist\"\n",
        "        },\n",
        "        \"Anger\": {\n",
        "            \"Low Effort\": \"Practice deep breathing exercises\",\n",
        "            \"Medium Effort\": \"Go for a run or workout\",\n",
        "            \"High Effort\": \"Join a kickboxing or high-intensity fitness class\"\n",
        "        },\n",
        "        \"Fear\": {\n",
        "            \"Low Effort\": \"Read a calming book or meditate\",\n",
        "            \"Medium Effort\": \"Take a calming walk in a safe place\",\n",
        "            \"High Effort\": \"Face a small fear (e.g., public speaking in a safe environment)\"\n",
        "        }\n",
        "    }\n",
        "}"
      ],
      "metadata": {
        "id": "9Snz-KbTgxdX"
      },
      "execution_count": 2,
      "outputs": []
    },
    {
      "cell_type": "code",
      "source": [
        "# Convert dict to dataframe type\n",
        "import pandas as pd\n",
        "import os\n",
        "\n",
        "data = []\n",
        "for sentiment, emotions in activity_json.items():\n",
        "    for emotion, efforts in emotions.items():\n",
        "        for effort, activity in efforts.items():\n",
        "            data.append([sentiment, emotion, effort, activity])\n",
        "\n",
        "# Create DataFrame\n",
        "activities_df = pd.DataFrame(data, columns=[\"Sentiment\", \"Emotion\", \"Effort\", \"Activity\"])\n"
      ],
      "metadata": {
        "id": "0tA09sdgdUow"
      },
      "execution_count": 3,
      "outputs": []
    },
    {
      "cell_type": "code",
      "source": [
        "# Define the path for the CSV file\n",
        "csv_file = 'qa_activities_dataset.csv'\n",
        "\n",
        "# Check if the CSV file exists; if not, create it with initial data\n",
        "if not os.path.exists(csv_file):\n",
        "    activities_df.to_csv(csv_file, index=False)\n",
        "else:\n",
        "    # Load the existing CSV file into a DataFrame\n",
        "    activities_df = pd.read_csv(csv_file)"
      ],
      "metadata": {
        "id": "2qYbmUotl9AW"
      },
      "execution_count": 4,
      "outputs": []
    },
    {
      "cell_type": "code",
      "source": [
        "# Login Hugging Face\n",
        "from huggingface_hub import login\n",
        "\n",
        "login(token=\"h-----------------------------------O\")"
      ],
      "metadata": {
        "colab": {
          "base_uri": "https://localhost:8080/",
          "height": 359
        },
        "id": "7xtl_P3Lq-OV",
        "outputId": "c723b43a-bdd3-4a4c-d138-a5f7a2ededf2"
      },
      "execution_count": 31,
      "outputs": [
        {
          "output_type": "stream",
          "name": "stdout",
          "text": [
            "The token has not been saved to the git credentials helper. Pass `add_to_git_credential=True` in this function directly or `--add-to-git-credential` if using via `huggingface-cli` if you want to set the git credential as well.\n"
          ]
        },
        {
          "output_type": "error",
          "ename": "ValueError",
          "evalue": "Invalid token passed!",
          "traceback": [
            "\u001b[0;31m---------------------------------------------------------------------------\u001b[0m",
            "\u001b[0;31mValueError\u001b[0m                                Traceback (most recent call last)",
            "\u001b[0;32m<ipython-input-31-143a189410fa>\u001b[0m in \u001b[0;36m<cell line: 4>\u001b[0;34m()\u001b[0m\n\u001b[1;32m      2\u001b[0m \u001b[0;32mfrom\u001b[0m \u001b[0mhuggingface_hub\u001b[0m \u001b[0;32mimport\u001b[0m \u001b[0mlogin\u001b[0m\u001b[0;34m\u001b[0m\u001b[0;34m\u001b[0m\u001b[0m\n\u001b[1;32m      3\u001b[0m \u001b[0;34m\u001b[0m\u001b[0m\n\u001b[0;32m----> 4\u001b[0;31m \u001b[0mlogin\u001b[0m\u001b[0;34m(\u001b[0m\u001b[0mtoken\u001b[0m\u001b[0;34m=\u001b[0m\u001b[0;34m\"h-----------------------------------O\"\u001b[0m\u001b[0;34m)\u001b[0m\u001b[0;34m\u001b[0m\u001b[0;34m\u001b[0m\u001b[0m\n\u001b[0m",
            "\u001b[0;32m/usr/local/lib/python3.10/dist-packages/huggingface_hub/_login.py\u001b[0m in \u001b[0;36mlogin\u001b[0;34m(token, add_to_git_credential, new_session, write_permission)\u001b[0m\n\u001b[1;32m    109\u001b[0m                 \u001b[0;34m\"you want to set the git credential as well.\"\u001b[0m\u001b[0;34m\u001b[0m\u001b[0;34m\u001b[0m\u001b[0m\n\u001b[1;32m    110\u001b[0m             )\n\u001b[0;32m--> 111\u001b[0;31m         \u001b[0m_login\u001b[0m\u001b[0;34m(\u001b[0m\u001b[0mtoken\u001b[0m\u001b[0;34m,\u001b[0m \u001b[0madd_to_git_credential\u001b[0m\u001b[0;34m=\u001b[0m\u001b[0madd_to_git_credential\u001b[0m\u001b[0;34m,\u001b[0m \u001b[0mwrite_permission\u001b[0m\u001b[0;34m=\u001b[0m\u001b[0mwrite_permission\u001b[0m\u001b[0;34m)\u001b[0m\u001b[0;34m\u001b[0m\u001b[0;34m\u001b[0m\u001b[0m\n\u001b[0m\u001b[1;32m    112\u001b[0m     \u001b[0;32melif\u001b[0m \u001b[0mis_notebook\u001b[0m\u001b[0;34m(\u001b[0m\u001b[0;34m)\u001b[0m\u001b[0;34m:\u001b[0m\u001b[0;34m\u001b[0m\u001b[0;34m\u001b[0m\u001b[0m\n\u001b[1;32m    113\u001b[0m         \u001b[0mnotebook_login\u001b[0m\u001b[0;34m(\u001b[0m\u001b[0mnew_session\u001b[0m\u001b[0;34m=\u001b[0m\u001b[0mnew_session\u001b[0m\u001b[0;34m,\u001b[0m \u001b[0mwrite_permission\u001b[0m\u001b[0;34m=\u001b[0m\u001b[0mwrite_permission\u001b[0m\u001b[0;34m)\u001b[0m\u001b[0;34m\u001b[0m\u001b[0;34m\u001b[0m\u001b[0m\n",
            "\u001b[0;32m/usr/local/lib/python3.10/dist-packages/huggingface_hub/_login.py\u001b[0m in \u001b[0;36m_login\u001b[0;34m(token, add_to_git_credential, write_permission)\u001b[0m\n\u001b[1;32m    305\u001b[0m     \u001b[0mpermission\u001b[0m \u001b[0;34m=\u001b[0m \u001b[0mget_token_permission\u001b[0m\u001b[0;34m(\u001b[0m\u001b[0mtoken\u001b[0m\u001b[0;34m)\u001b[0m\u001b[0;34m\u001b[0m\u001b[0;34m\u001b[0m\u001b[0m\n\u001b[1;32m    306\u001b[0m     \u001b[0;32mif\u001b[0m \u001b[0mpermission\u001b[0m \u001b[0;32mis\u001b[0m \u001b[0;32mNone\u001b[0m\u001b[0;34m:\u001b[0m\u001b[0;34m\u001b[0m\u001b[0;34m\u001b[0m\u001b[0m\n\u001b[0;32m--> 307\u001b[0;31m         \u001b[0;32mraise\u001b[0m \u001b[0mValueError\u001b[0m\u001b[0;34m(\u001b[0m\u001b[0;34m\"Invalid token passed!\"\u001b[0m\u001b[0;34m)\u001b[0m\u001b[0;34m\u001b[0m\u001b[0;34m\u001b[0m\u001b[0m\n\u001b[0m\u001b[1;32m    308\u001b[0m     \u001b[0;32melif\u001b[0m \u001b[0mwrite_permission\u001b[0m \u001b[0;32mand\u001b[0m \u001b[0mpermission\u001b[0m \u001b[0;34m!=\u001b[0m \u001b[0;34m\"write\"\u001b[0m\u001b[0;34m:\u001b[0m\u001b[0;34m\u001b[0m\u001b[0;34m\u001b[0m\u001b[0m\n\u001b[1;32m    309\u001b[0m         raise ValueError(\n",
            "\u001b[0;31mValueError\u001b[0m: Invalid token passed!"
          ]
        }
      ]
    },
    {
      "cell_type": "code",
      "source": [
        "from transformers import DistilBertTokenizer, DistilBertForSequenceClassification, AutoModelForCausalLM, AutoTokenizer, pipeline\n",
        "import torch\n",
        "from torch.nn.functional import softmax\n",
        "\n",
        "# Initialize Modelstokenizer\n",
        "qa_model_name = \"NousResearch/Llama-2-7b-chat-hf\"\n",
        "qa_model = AutoModelForCausalLM.from_pretrained(qa_model_name, torch_dtype=torch.float16, device_map=\"auto\")\n",
        "qa_tokenizer = AutoTokenizer.from_pretrained(qa_model_name)\n",
        "qa_tokenizer.use_default_system_prompt = False\n",
        "\n",
        "sentiment_model_name = \"distilbert-base-uncased-finetuned-sst-2-english\"\n",
        "sentiment_model = DistilBertForSequenceClassification.from_pretrained(sentiment_model_name, torch_dtype=torch.float16)\n",
        "sentiment_tokenizer = DistilBertTokenizer.from_pretrained(sentiment_model_name)\n",
        "\n",
        "emotion_model_name = \"bhadresh-savani/distilbert-base-uncased-emotion\"\n",
        "emotion_model = DistilBertForSequenceClassification.from_pretrained(emotion_model_name, torch_dtype=torch.float16)\n",
        "emotion_tokenizer = DistilBertTokenizer.from_pretrained(emotion_model_name)\n",
        "\n",
        "# Initialize the pipeline using Hugging Face pipeline\n",
        "llama_pipeline = pipeline(\n",
        "    \"text-generation\",\n",
        "    model=qa_model,\n",
        "    tokenizer=qa_tokenizer,\n",
        "    torch_dtype=torch.float16,\n",
        "    device_map=\"auto\",\n",
        "    max_length=1024\n",
        ")\n",
        "\n"
      ],
      "metadata": {
        "colab": {
          "base_uri": "https://localhost:8080/",
          "height": 191,
          "referenced_widgets": [
            "b3bef4e2f96643fe818ac3c13c160a3a",
            "a11d788cfe004de68985036e1aee4552",
            "3e1a4520866a42878cb408723165045f",
            "c6850738867c4d7e862ee52cbda97f10",
            "2e82a3ce24ae48178d4c22e2da960792",
            "acca1dd1361b4435bfc1e03e78744766",
            "13eaa6c6e51f4738aa0590d69a97a7a0",
            "f1126b658a864a659483150f4b351611",
            "81afcc84e2674762ab4261dc259c5699",
            "8a7c595c9c7a43b4b2b151b020f17486",
            "abfc7981fe3e4019b2c1809b3d9b96e8"
          ]
        },
        "id": "plFK11tDmVu1",
        "outputId": "14f7e4a3-d75f-479e-ef91-f77fa1a559cf"
      },
      "execution_count": 6,
      "outputs": [
        {
          "output_type": "stream",
          "name": "stderr",
          "text": [
            "/usr/local/lib/python3.10/dist-packages/huggingface_hub/utils/_token.py:89: UserWarning: \n",
            "The secret `HF_TOKEN` does not exist in your Colab secrets.\n",
            "To authenticate with the Hugging Face Hub, create a token in your settings tab (https://huggingface.co/settings/tokens), set it as secret in your Google Colab and restart your session.\n",
            "You will be able to reuse this secret in all of your notebooks.\n",
            "Please note that authentication is recommended but still optional to access public models or datasets.\n",
            "  warnings.warn(\n"
          ]
        },
        {
          "output_type": "display_data",
          "data": {
            "text/plain": [
              "Loading checkpoint shards:   0%|          | 0/2 [00:00<?, ?it/s]"
            ],
            "application/vnd.jupyter.widget-view+json": {
              "version_major": 2,
              "version_minor": 0,
              "model_id": "b3bef4e2f96643fe818ac3c13c160a3a"
            }
          },
          "metadata": {}
        },
        {
          "output_type": "stream",
          "name": "stderr",
          "text": [
            "WARNING:accelerate.big_modeling:Some parameters are on the meta device because they were offloaded to the disk and cpu.\n"
          ]
        }
      ]
    },
    {
      "cell_type": "code",
      "source": [
        "def sentiment_analize(text):\n",
        "  '''\n",
        "    Analyze sentiment based in given text and return option\n",
        "\n",
        "    Parameters:\n",
        "      text (str): Text to analize sentiment\n",
        "\n",
        "    Returns:\n",
        "      sentiment (str): The sentiment by given text(Positive/Negative)\n",
        "  '''\n",
        "  inputs = sentiment_tokenizer(text, return_tensors=\"pt\")\n",
        "  with torch.no_grad():\n",
        "    logits = sentiment_model(**inputs).logits\n",
        "\n",
        "  predicted_class_id = logits.argmax().item()\n",
        "\n",
        "  probabilities = softmax(logits, dim=-1)\n",
        "\n",
        "  sentiment_analize_result = {\n",
        "      \"label\": sentiment_model.config.id2label[predicted_class_id].capitalize(),\n",
        "      \"score\": probabilities[0, predicted_class_id].item()\n",
        "  }\n",
        "\n",
        "  return sentiment_analize_result\n"
      ],
      "metadata": {
        "id": "AeKpjWZ4rcDx"
      },
      "execution_count": 7,
      "outputs": []
    },
    {
      "cell_type": "code",
      "source": [
        "def emotion_analize(text):\n",
        "  '''\n",
        "    Analyze emotion based in given text and return option\n",
        "\n",
        "    Parameters:\n",
        "      text (str): Text to analize emotion\n",
        "\n",
        "    Returns:\n",
        "      emotion (str): The emotion by given text(Love/Joy/Surprise/Sadness/Anger/Fear)\n",
        "  '''\n",
        "  inputs = emotion_tokenizer(text, return_tensors=\"pt\")\n",
        "\n",
        "  with torch.no_grad():\n",
        "    logits = emotion_model(**inputs).logits\n",
        "\n",
        "  predicted_class_id = logits.argmax().item()\n",
        "\n",
        "  probabilities = softmax(logits, dim=-1)\n",
        "\n",
        "  emotion_analize_result = {\n",
        "      \"label\": emotion_model.config.id2label[predicted_class_id].capitalize(),\n",
        "      \"score\": probabilities[0, predicted_class_id].item()\n",
        "  }\n",
        "\n",
        "  return emotion_analize_result"
      ],
      "metadata": {
        "id": "LAWOdsksu2jw"
      },
      "execution_count": 8,
      "outputs": []
    },
    {
      "cell_type": "code",
      "source": [
        "def get_activity(Sentiment, Emotion, Effort):\n",
        "  \"\"\"\n",
        "    Retrieves an activity suggestion based on the provided sentiment, emotion, and effort level.\n",
        "\n",
        "    Parameters:\n",
        "      Sentiment (str): A sentiment gived by the model(Positive/Negative).\n",
        "\n",
        "      Emotion (str): A specific emotion gived by the model(Love/Joy/Surprise/Sadness/Anger/Fear).\n",
        "\n",
        "      Effort (str): The effort calculate by the score(High Effort/Medium Effort/Low Effort).\n",
        "\n",
        "    Returns:\n",
        "      (str): The activity suggestion that matches the given sentiment, emotion, and effort level from the dataset.\n",
        "    \"\"\"\n",
        "  return activities_df[(activities_df['Sentiment'] == f'{Sentiment}') &\n",
        "                  (activities_df['Emotion'] == f'{Emotion}') &\n",
        "                  (activities_df['Effort'] == f'{Effort}')]['Activity'].values[0]"
      ],
      "metadata": {
        "id": "KTzYAvVqjt4G"
      },
      "execution_count": 10,
      "outputs": []
    },
    {
      "cell_type": "code",
      "source": [
        "def day_analyze(resume):\n",
        "  \"\"\"\n",
        "    Retrieves the user resume and calculate sentiment, emotion and the efort to get the correspondent activity.\n",
        "\n",
        "    Parameters:\n",
        "      resume (str): A prompt from the user.\n",
        "\n",
        "    Returns:\n",
        "      (str): The activity suggestion that matches the given sentiment, emotion, and effort level from the dataset.\n",
        "    \"\"\"\n",
        "  sentiment_result = sentiment_analize(resume)\n",
        "  emotion_result = emotion_analize(resume)\n",
        "\n",
        "  average_score = round((sentiment_result['score'] + emotion_result['score']) / 0.2, 1)\n",
        "\n",
        "  if average_score > 8.5:\n",
        "    return get_activity(sentiment_result['label'], emotion_result['label'], 'High Effort')\n",
        "  elif average_score > 6.5:\n",
        "    return get_activity(sentiment_result['label'], emotion_result['label'], 'Medium Effort')\n",
        "  elif average_score > 0:\n",
        "    return get_activity(sentiment_result['label'], emotion_result['label'], 'Low Effort\t')\n",
        "  else:\n",
        "    return 'None activity found'"
      ],
      "metadata": {
        "id": "OGgX0FMt49Zf"
      },
      "execution_count": 11,
      "outputs": []
    },
    {
      "cell_type": "code",
      "source": [
        "def day_activity(input, history):\n",
        "    \"\"\"\n",
        "      Generates an activity suggestion based on the user's input and conversation history.\n",
        "\n",
        "      Parameters:\n",
        "        input (str): The current input or request from the user.\n",
        "\n",
        "        history (list): A list of lists representing the conversation history, where each list contains\n",
        "          the user's previous input and the chatbot's last response.\n",
        "\n",
        "      Returns:\n",
        "        (str): A generated activity suggestion, followed by a message asking the user if they want a new activity.\n",
        "\n",
        "    \"\"\"\n",
        "    if len(history) == 0:\n",
        "      answer = day_analyze(input)\n",
        "\n",
        "    else:\n",
        "      last_response = history[-1][1].replace(\"\\nPlease let me know if you want me to generate a new activity based on your input.\", \"\")\n",
        "      prompt = f\"\"\"\n",
        "        request: Create a new activity and return just the new activit created, without question.\n",
        "        current generated activity: {last_response}\n",
        "        last input: {history[-1][0]}\n",
        "        current input: {input}\n",
        "      \"\"\"\n",
        "      activity = llama_pipeline(prompt, max_length=150, do_sample=True)[0]['generated_text']\n",
        "\n",
        "      list_activity = activity.split(\"\\n\")\n",
        "      list_prompt = prompt.split(\"\\n\")\n",
        "\n",
        "      for item_prompt in list_prompt:\n",
        "        for item_text in list_activity:\n",
        "          if item_prompt == item_text:\n",
        "            list_activity.remove(item_text)\n",
        "\n",
        "      answer = '\\n'.join(list_activity)\n",
        "\n",
        "    answer = f\"{answer}\\nPlease let me know if you want me to generate a new activity based on your input.\"\n",
        "    return answer\n"
      ],
      "metadata": {
        "id": "cSGcX3r0vmhX"
      },
      "execution_count": 28,
      "outputs": []
    },
    {
      "cell_type": "code",
      "source": [
        "import gradio as gr\n",
        "\n",
        "demo = gr.ChatInterface(\n",
        "    fn=day_activity,\n",
        "    title=\"Activity Suggestion Chatbot\",\n",
        "    description='<p style=\"text-align: center;\">Tell me  about your day, and I\\'ll give you a <strong>ACTIVITY</strong></p>',\n",
        ")\n",
        "\n"
      ],
      "metadata": {
        "id": "T5fsBLlq-Qs6"
      },
      "execution_count": 29,
      "outputs": []
    },
    {
      "cell_type": "code",
      "source": [
        "demo.launch()"
      ],
      "metadata": {
        "colab": {
          "base_uri": "https://localhost:8080/",
          "height": 626
        },
        "id": "jZwS_T0QFnu4",
        "outputId": "30dbe6bd-8505-4461-d00b-4546df12d235"
      },
      "execution_count": 30,
      "outputs": [
        {
          "output_type": "stream",
          "name": "stdout",
          "text": [
            "Setting queue=True in a Colab notebook requires sharing enabled. Setting `share=True` (you can turn this off by setting `share=False` in `launch()` explicitly).\n",
            "\n",
            "Colab notebook detected. To show errors in colab notebook, set debug=True in launch()\n",
            "Running on public URL: https://841dc310a76ec8aa81.gradio.live\n",
            "\n",
            "This share link expires in 72 hours. For free permanent hosting and GPU upgrades, run `gradio deploy` from Terminal to deploy to Spaces (https://huggingface.co/spaces)\n"
          ]
        },
        {
          "output_type": "display_data",
          "data": {
            "text/plain": [
              "<IPython.core.display.HTML object>"
            ],
            "text/html": [
              "<div><iframe src=\"https://841dc310a76ec8aa81.gradio.live\" width=\"100%\" height=\"500\" allow=\"autoplay; camera; microphone; clipboard-read; clipboard-write;\" frameborder=\"0\" allowfullscreen></iframe></div>"
            ]
          },
          "metadata": {}
        },
        {
          "output_type": "execute_result",
          "data": {
            "text/plain": []
          },
          "metadata": {},
          "execution_count": 30
        }
      ]
    }
  ]
}